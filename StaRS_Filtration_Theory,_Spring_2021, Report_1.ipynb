{
  "nbformat": 4,
  "nbformat_minor": 0,
  "metadata": {
    "colab": {
      "name": "StaRS Filtration Theory, Spring 2021",
      "provenance": [],
      "collapsed_sections": [],
      "include_colab_link": true
    },
    "kernelspec": {
      "name": "python3",
      "display_name": "Python 3"
    }
  },
  "cells": [
    {
      "cell_type": "markdown",
      "metadata": {
        "id": "view-in-github",
        "colab_type": "text"
      },
      "source": [
        "<a href=\"https://colab.research.google.com/github/AguaClara/filtration-theory/blob/master/StaRS_Filtration_Theory%2C_Spring_2021%2C%20Report_1.ipynb\" target=\"_parent\"><img src=\"https://colab.research.google.com/assets/colab-badge.svg\" alt=\"Open In Colab\"/></a>"
      ]
    },
    {
      "cell_type": "markdown",
      "metadata": {
        "id": "TLAmaRBfCmiy"
      },
      "source": [
        "# **StaRS Filtration Theory, Spring 2021**\n",
        "#### Dhruv Misra, Isabelle Breedveld, Rachel Lai \n",
        "#### 3/22/2021"
      ]
    },
    {
      "cell_type": "markdown",
      "metadata": {
        "id": "BfeU4k7OCphn"
      },
      "source": [
        "## Abstract\n",
        "StaRS (Stacked Rapid Sand) Filtration is crucial to the water treatment process. As one of the last steps in AguaClara’s water treatment, StaRS filters are responsible for removing the last of the unwanted particles. In order to operate effectively under EPA standards, the filters must reduce the turbidity to 0.3 NTU or less. In efforts to better refine the AguaClara filters, variables such as grain size, the height of the active zone, coagulant dosage will be tested in order to increase the failure time. At the beginning of experimentation, the Fall 2019 StaRS sub-team focused specifically on the grain size. The Spring 2021 team will also work on increasing failure time, although their methods have not been determined yet. "
      ]
    },
    {
      "cell_type": "markdown",
      "metadata": {
        "id": "EqtwU-gRCrj9"
      },
      "source": [
        "## Introduction\n",
        "The Spring 2021 team consists of new members, planning on first understanding the mathematical modeling behind sand filtration. After a thorough understanding has been reached, the Spring 2021 team plans on adding to the research produced by previous years’ teams in order to increase the failure time of the filters and testing the efficiency of the sand grain size on the filters. \n",
        "Sand filtration has been a method of water filtration since ancient times. A common type of sand filtration utilized in AguaClara water treatment plants is rapid (gravity) sand filtration. This method requires the use of polyaluminum (PaCl) as a chemical coagulant to increase the clustering of small particles (flocs) in the water in efforts to increase the ease of particle filtration. This filtration approach has shown to be effective in reducing turbidity below 0.3, which meets EPA standards. Experimentation performed on the model sand filter in the lab and the similar StaRS filters in the water treatment plants in Honduras have also reflected such performance standards. The goal of the StaRS Filter Theory sub-team is to build a mathematical model that describes the performance of the filter. Therefore, the relevant filter parameters must be determined through experiments. These parameters can be used to optimize filter performance to minimize effluent turbidity and maximize failure time. The filter parameters studied in the past include the dosage of coagulant, water inlet flow rate, water inlet turbidity, backwash time and flocculation size. The Fall 2019 team ran experiments that analyzed the performance of the 3 new sand filters. These filters were built based on earlier teams’ research that showed larger sand grains would have shorter failure times. This semester the 2021 StaRS subteam will focus on the effect of sand size on the height of the active zone and create a model to estimate the depth of the active zone of the filters. Given that StaRS filters perform rather well even with only 20 cm of bed depth,our team expects that the active zone height is a tiny fraction of 20 cm. Each of the filters contains a layer of sand, differing in their sand grain size. The StaRS team will use this existing set up to measure performance as a function of time with a constant 5 NTU influent and a range of coagulant dosages. Then, the team will calculate the mass of particles captured by the filters during the ripening period and during the total filter run until failure.\n"
      ]
    },
    {
      "cell_type": "markdown",
      "metadata": {
        "id": "FLDOXtNqCtAW"
      },
      "source": [
        "## Literature Review and Previous Work\n",
        "The Spring 2021 StaRS team reviewed the work of  previous teams through meetings with previous team members/leaders, the founder of AguaClara, existing documentation, and experimental data. Using the information from the literature review, the Spring 2021 team is currently planning on which parameters to focus on testing for this semester. Current options include continuing research on sand grain size and possibly the geometry of the filters.\n",
        "\n"
      ]
    },
    {
      "cell_type": "markdown",
      "metadata": {
        "id": "A9c0Dr8rCujT"
      },
      "source": [
        "## Methods\n",
        "## **Literature Review**\n",
        "---\n",
        "The team conducted a literature review to understand existing research on sand filtration, especially looking at the research done on sand grain size as a factor to effective water filtration. Many research investigations were executed to determine the optimal sand grain size to prolong each run for water filtration. The team understood that the size was a factor but did not have a wide scope of understanding on the extent of this factor or other relative variables. One study <!--which study? please cite at the first point you mention a study--> noted that the larger the grain size, the faster the wastewater flowed through the sand and the greater the amount of wastewater that can be filtered. This was noted with the addition that if the grain size is too large, treatment efficiency would be reduced. This supported the team's intention of seeking the optimal sand grain size for longer failure time purposes. The research found that coarser sand provided less of a concern for clogging (Converse and Tyler, 2000). The ideal sand for intermittent sand filters is coarse sand with an effective size between 0.3mm and 0.5mm (Crites and Tchobanoglous, 1998; Ohio State University, 1999). Such statements provides a helpful starting point for the team to consider what sand grain sizes to run tests for. The published paper also emphasized the significance of the pore space in the sand,\n",
        " as opposed to attention given to the grain particles themselves. While the percentage of void volume generally remains constant as the diameter of spheres changes, the surface area of packed spheres (sand grains, in this case), increases and the size of pores per unit volume area decreases with smaller diameter spheres. An important note was that a granular media filter can improve on filtration efficiency from increases in the surface area per unit of volume, but can suffer in efficiency when the pore size is reduced by too much for sufficient flow during filtration (Ball, 1997). This consideration of the pore size rather than the grain size is an important perspective to take on the team's manipulation of sand grain size. This published paper has provided useful background to help the team proceed with planning test runs. The parameters and explanations of significance have helped the team understand the effect of certain variables on the failure time. In addition, the ranges for sand grain size stated in the literature reviewed has provided a helpful consideration for a starting point for future test runs.\n",
        "\n",
        "\n",
        "\n",
        "<!-- this is a good lit review, i can you took the time to read through the lit reviews. please try an include more on how this has helped your plans for experimentations at the end-->\n",
        "<!--make sure all your citations are listed in your bibliography-->\n",
        "<!--- 9/10 --->\n",
        "##**Previous Work**\n",
        "---\n",
        "\n",
        "\n",
        "In the Spring of 2019, the StaRS team focused on the grain size effect on the efficiency of the filters. The end goal being to develop a mathematical model that best describes the efficiency of a filter and the variables that affect failure time. When experimentation began for this team, the filters showed signs of leaking and the team spent most of the semester fabricating a new filter to replace the leaking one. \n",
        "<center>\n",
        "\n",
        "<img src=\"https://raw.githubusercontent.com/AguaClara/stars_filter_theory/master/Fall%202018/Images/Apparatus%20Design.jpg?raw=true\" height = 300 />\n",
        "\n",
        "***Figure 1: The schematic for the Spring 2019 experimental filter apparatus.***\n",
        "</center>\n",
        "\n",
        "The Fall 2019 StaRS filter team developed a new apparatus in order to simplify the variability of the old design. The most prominent simplification in the new design was the decision to run only one filter (with one of the grain sizes) at a time rather than all three at once. This simplification allows for the use of only two turbidimeters, rather than the four requiered in the past design. One turbidimeter is used for influent flow and the other for effluent flow. Additionally, unlike past designs, the water enters the apparatus and immediately goes through the water pump in both the forward and backwash cycles. This change eliminated the unwanted cycling of wastewater through the system during backwash that was observed by the Fall 2019 team.  \n",
        "\n",
        "While the apparatus can only flow through one filter at a time, all three grain sizes can still be tested. There are three location on each filter column that can manually be adjusted to change which filter and therefore which sand grain size is undergoing experimentation. These location include the top, middle, and bottom inlet/outlets of the filter column. While not in use, these outlets will have plugs in them to maintain pressure and ensure water, sand, and other particles are not leaking out of the filter column.\n",
        "\n",
        "An additional adjusment made by the 2019 StaRS filter subteam was the use of consistent pipe sizing. In years prior, the diameter of tubing varied with location within the apparatus. This design leads to inconsisten pressure throughout the apparatus and therefore inconsistent water flow. By creating a design with consistent piping, the variabiliy of water flow is eliminated. In deciding which tubing size to use, it was necessary to measure the amount of kinetic energy a chosen pipe size would create throughout the system. The 2019 StaRS team chose .17in pipes and the calculations showed acceptable kinetic energy so the apparatus was designed using this size throughout the system. \n",
        "\n",
        "Lastly, the Fall 2019 StaRS subteam replaced the pump previously used in the apparatus. It was discovered that while the old pump could provide enough flow of water to the filters during forward flow, it could not produce a strong enough flow rate for backwash. The backwash flow rate needed is six times the flow rate needed for forward flow. The new pump is able to accomidate for this speed. This new apparatus requires slightly more manual adjustments than previous designs, however, the simplification lends itself to a better understanding of the apparatus as a whole.\n",
        "\n",
        "The Spring 2020 StaRS team inherited the apparatus of the previous semester and will start moving forward with the testing of sand grain size after completing the design and adding a few small changes. First, the team made a new flocculator for the system as the old one was molding and made with the wrong tubing size. Additionally, the coagulant and clay pumps needed to be connected to the system. The previous semester's team had only run the apparatus with water as they were waiting to receive parts required to run the other pumps. Lastly, the team found that an error in ProCoda has been causing troubles in the functionality of the water pump. In order to move forward with experimentation the team decided to run the system by manually adjusting the water pump until ProCoda has been fixed and can function without manual help. With these adjustments the apparatus is now ready to be with clay and coagulant.  \n",
        "\n",
        "\n",
        "<center>\n",
        "\n",
        "<img src=\"https://lh6.googleusercontent.com/Ch_a08mZulKlrsyXmd0GGDl2ZGrCzbmeNbe2wLCo2TGUVEAGwTBDiFoytjtRbG7CVApLrB8LMI6WOCcpdmRpxyHho_2lMaIyMSrhOQ-suGiMNlkmMWYlKvFBZOrErq_h9FlU_DaZ?raw=true\" height = 300 />\n",
        "\n",
        "\n",
        "***Figure 2: The schematic for the Fall 2019 experimental filter apparatus.***\n",
        "\n",
        "</center>"
      ]
    },
    {
      "cell_type": "markdown",
      "metadata": {
        "id": "TPiP9gijC3GV"
      },
      "source": [
        "## Results and Analysis\n",
        "Present an observation (results), then explain what happened (analysis).  Each paragraph should focus on one aspect of your results and interpret that result. In other words, there should not be two distinct paragraphs, but one paragraph containing one result and the interpretation and analysis of this result. Here are some guiding questions for results and analysis:\n",
        "\n",
        "When describing your results, present your data, using the guidelines below:\n",
        "* What happened? What did you find?\n",
        "* Show your experimental data in a professional way (see Figure Requirements).\n",
        "\n",
        "After describing a particular result, within a paragraph, go on to connect your work to fundamental physics, chemistry, statics, fluid mechanics, or whatever field is appropriate. Analyze your results and compare with theoretical expectations; or, if you have not yet done the experiments, describe your expectations based on established knowledge.\n",
        "* Why did you get those results/data?\n",
        "* Did these results line up with expectations?\n",
        "* What went wrong?\n",
        "* If the data do not support your hypothesis, is there another hypothesis that describes your new data?\n",
        "\n",
        "Include implications of your results. How will your results influence the design of AguaClara plants? If possible provide clear recommendations for design changes that should be adopted.\n"
      ]
    },
    {
      "cell_type": "markdown",
      "metadata": {
        "id": "AKcGjcIwWSIB"
      },
      "source": [
        "##**Methods**\n",
        "---\n",
        "The amount of sand available for each of the 3 sand grain sizes that the team is interested in testing this semester was not sufficient in the beginning of the semester. The team spent time sifting for more sand to refill each of the three filters in the apparatus. Meanwhile, the team decided to start running tests on the one sand size that had enough available to begin with. Before starting, the team prepared stock solutions of the clay with humic solution and PaCl solution to be able to run forward wash. At the moment, the appropriate bottles with inlets for the microtubing which allows for the solutions to flow are not available. Thus, the team is fabricating such bottles by drilling holes and manually inserted pieces which will allow for tubing attachment. Once the clay and coagulant solutions have been added, the team will be starting test runs.\n",
        "\n",
        "###**Hypothesis on the Filter Performance Model**\n",
        "\n",
        "\n",
        "1.    The number of fully-loaded pores is increasing linearly with time with the amount of solids that have been captured by the filter.\n",
        "\n",
        "2.   Flocs cannot attach to the filter surfaces when the fluid drag on the floc exceeds the strength of the bonds between the coagulant nanoparticles and the particles and pore surfaces. As pores are getting smaller due to deposition, incoming flocs are getting harder to attach to the pore surfaces. The flocs will end up passing right through the pore even though there might be significant deformation on the flocs. \n",
        "\n",
        "3. Dual media filters are pointless because the smaller media at the downstream end of the filter remains clean. The multimedia filters can be replaced with a single media filter.\n",
        "\n",
        "4. According to AguaClara textbook, dual media filtration has the advantage of having a lower rate of head loss accumulation over single media filtration. The larger portion in the dual media might be responsible for the constant rate of increase of head loss over time for dual media filters. Therefore, there is a hypothesis that larger diameter media might work better for rapid sand filters. \n",
        "\n",
        "\n",
        "\n",
        "\n",
        "\n",
        "###**Sands Size Selection**\n",
        "The sand particle size used in the Agua Clara Plant in Honduras is around 0.45 mm, which falls into the mesh number range from 35 to 40, correspondingly sieve opening from 0.425 mm to 0.50 mm. Aiming to experiment with a wider range of sand grain sizes this semester, the team will preliminary try to obtain the mesh number 16 (sieve opening of 1.18 mm), 20 (sieve opening of 0.85 mm) and the sand particle size that is smaller than the AguaClara sand size, which can be obtained from the bottom of the sifting apparatus. According to AguaClara textbook, dual media filtration has the advantage of having a lower rate of head loss accumulation over single media filtration. The larger portion in the dual media might be responsible for the constant rate of increase of head loss over time for dual media filters. Therefore, there is a hypothesis that larger diameter media might work better for rapid sand filters. The team will prioritize the experiment run with the largest sand grain size we can obtain from our current sifting. \n",
        "\n",
        "###**Stock Solution Preparation**\n",
        "According to AguaClara textbook, large flocs are easier to capture than primary particles in a sand filter. Large flocs tend to fill the active zone out of service first. Therefore, influent floc size distribution might influence filter performance. From the Fall 2018 report, an ideal coagulant dosage concentration to test with is between 0.02 and 0.1 mg/L of PaCl, the range that optimizes filter performance as determined by the Spring 2018 team.\n",
        "Based on the calculations in [the link](https://colab.research.google.com/drive/1YUdELxvhMtVvYul9_F6d-Xg3GpzNvL_l), the team was able to calculate the clay stock concentration needed, 0.375 g/L, targeting at the approximate expected incoming 5 NTU turbidity in the filtration unit processes. Given 100 mg/L of Humic acid was sufficient to prevent the clay stock from showing signs of flocculation. Presumably this ratio of 100 mg of humic acid per 15 g of clay can be used for other clay stock suspensions. From the 0.375 g/L clay stock, the team added 2.5 mg humic acid according to the ratio (15 g/L clay / 100 mg humic acid) for the final clay solution. \n"
      ]
    },
    {
      "cell_type": "markdown",
      "metadata": {
        "id": "a7POfNmj2Gr7"
      },
      "source": [
        "##**Methods**\n",
        "---\n",
        "The amount of sand available for each of the 3 sand grain sizes that the team is interested in testing this semester was not sufficient in the beginning of the semester. The team spent time sifting for more sand to refill each of the three filters in the apparatus. Meanwhile, the team decided to start running tests on the one sand size that had enough available to begin with. Before starting, the team prepared stock solutions of the clay with humic solution and PaCl solution to be able to run forward wash. At the moment, the appropriate bottles with inlets for the microtubing which allows for the solutions to flow are not available. Thus, the team is fabricating such bottles by drilling holes and manually inserted pieces which will allow for tubing attachment. Once the clay and coagulant solutions have been added, the team will be starting test runs.\n",
        "\n",
        "###**Hypothesis on the Filter Performance Model**\n",
        "\n",
        "\n",
        "1.    The number of fully-loaded pores is increasing linearly with time with the amount of solids that have been captured by the filter.\n",
        "\n",
        "2.   Flocs cannot attach to the filter surfaces when the fluid drag on the floc exceeds the strength of the bonds between the coagulant nanoparticles and the particles and pore surfaces. As pores are getting smaller due to deposition, incoming flocs are getting harder to attach to the pore surfaces. The flocs will end up passing right through the pore even though there might be significant deformation on the flocs. \n",
        "\n",
        "3. Dual media filters are pointless because the smaller media at the downstream end of the filter remains clean. The multimedia filters can be replaced with a single media filter.\n",
        "\n",
        "4. According to AguaClara textbook, dual media filtration has the advantage of having a lower rate of head loss accumulation over single media filtration. The larger portion in the dual media might be responsible for the constant rate of increase of head loss over time for dual media filters. Therefore, there is a hypothesis that larger diameter media might work better for rapid sand filters. \n",
        "\n",
        "\n",
        "\n",
        "\n",
        "\n",
        "###**Sands Size Selection**\n",
        "The sand particle size used in the Agua Clara Plant in Honduras is around 0.45 mm, which falls into the mesh number range from 35 to 40, correspondingly sieve opening from 0.425 mm to 0.50 mm. Aiming to experiment with a wider range of sand grain sizes this semester, the team will preliminary try to obtain the mesh number 16 (sieve opening of 1.18 mm), 20 (sieve opening of 0.85 mm) and the sand particle size that is smaller than the AguaClara sand size, which can be obtained from the bottom of the sifting apparatus. According to AguaClara textbook, dual media filtration has the advantage of having a lower rate of head loss accumulation over single media filtration. The larger portion in the dual media might be responsible for the constant rate of increase of head loss over time for dual media filters. Therefore, there is a hypothesis that larger diameter media might work better for rapid sand filters. The team will prioritize the experiment run with the largest sand grain size we can obtain from our current sifting. \n",
        "\n",
        "###**Stock Solution Preparation**\n",
        "According to AguaClara textbook, large flocs are easier to capture than primary particles in a sand filter. Large flocs tend to fill the active zone out of service first. Therefore, influent floc size distribution might influence filter performance. From the Fall 2018 report, an ideal coagulant dosage concentration to test with is between 0.02 and 0.1 mg/L of PaCl, the range that optimizes filter performance as determined by the Spring 2018 team.\n",
        "Based on the calculations in [the link](https://colab.research.google.com/drive/1YUdELxvhMtVvYul9_F6d-Xg3GpzNvL_l), the team was able to calculate the clay stock concentration needed, 0.375 g/L, targeting at the approximate expected incoming 5 NTU turbidity in the filtration unit processes. Given 100 mg/L of Humic acid was sufficient to prevent the clay stock from showing signs of flocculation. Presumably this ratio of 100 mg of humic acid per 15 g of clay can be used for other clay stock suspensions. From the 0.375 g/L clay stock, the team added 2.5 mg humic acid according to the ratio (15 g/L clay / 100 mg humic acid) for the final clay solution. \n"
      ]
    },
    {
      "cell_type": "markdown",
      "metadata": {
        "id": "ZXUik5SH-YFM"
      },
      "source": [
        "## **Bibliography**\n",
        "---\n",
        "\n",
        "\n",
        "Converse James C. and E. Jerry Tyler. 2000. Wisconsin Mound Soil Absorption Systems: Siting, Design and\n",
        "Construction Manual. Small Scale Waste Management Project. 345 King Hall, University-Madison, 1525 Linden\n",
        "Drive, Madison, WI 53706. \n",
        "\n",
        "Logan, B. E., Hermanowicz, S. W., & Parker,A. S. (1987). A Fundamental Model for Trickling Filter Process Design. Journal (Water Pollution Control Federation), 59(12), 1029–1042.\n",
        "\n",
        "Ohio State University. 1999. Sand Bioreactors for Wastewater Treatment for Ohio Communities. Bulletin 876-99. pp. 1-5.\n",
        "\n",
        "Weber-Shirk, M., Guzman, J., O'Connor, C., Pennock, W., Lion, L., Du, Y., & Maisel, Z. (2019) \"AguaClara Cornell Textbook\"\n",
        "\n",
        "\n"
      ]
    },
    {
      "cell_type": "markdown",
      "metadata": {
        "id": "yfoW16_iACYt"
      },
      "source": [
        "## **Fabrication Details**\n",
        "Fabrication Details\n",
        "The StaRS team received fabrication training in order to have a holistic and safe understanding of the power tools when fabricating the three new filters. Each filter was constructed identically, with one influent stream and one effluent stream. In previous years, the team’s filter was composed of two stacked filter layers (total sand depth was 40 cm), but the team this year decided that one layer (total sand depth 20 cm) would be equally effective for the purposes of the research.\n",
        "\n",
        "When determining the height of the new filters, the backwash expansion needed to considered. During backwash, the sand in a StaRS filter is pushed up by the water and it expands throughout the column. Equation 3 was used by previous teams to determine the height of the sand bed during backwash expansion.\n",
        "\n",
        "<center>\n",
        "\n",
        "<img src=\"https://raw.githubusercontent.com/AguaClara/stars_filter_theory/master/Fall%202018/Images/sand%20expansion%20equation.png?raw=true\" height = 50 />\n",
        "\n",
        "***Equation 3: The height of the sand bed during backwash expansion.***\n",
        "\n",
        "</center>\n",
        "\n",
        "\n",
        "\n",
        "As a result, the team determined it was necessary that the height of the new filters be at least 30 cm. To stay on the safe side, the team constructed the three filters at a height of 40cm.\n",
        "\n",
        "The team also needed to determine the orifice size for the inlet pipes into the filters. Previous teams determined this size using equation 1. However, the reasoning behind the equation and the influence of orifice size on the filter has yet to be fully investigated. Therefore, the team chose to use the same orifice dimensions as the inlet pipe for the previous apparatus, which is 0.8 cm x 2.25 cm, located 0.2 cm from the end of the inlet pipe (Fig. 4).\n",
        "\n",
        "#**Materials**\n",
        "- Transparent PVC pipe of inner diameter 1 in. at least 120 cm in length (Obtained from AguaClara Lab)\n",
        "- 3x PVC Pipe caps of inner diameter 1.32 in. (Obtained from AguaClara Lab)\n",
        "- Brass (or copper) pipe of outer diameter 0.50 in., inner diameter 0.436 in., and at least 60 cm in length. The team used brass for the apparatus, obtained from McMaster-Carr, Part Number: 5157K133.\n",
        "-3x unthreaded push-to-connect reducers, 1/2\" to 3/8\"\n",
        "-3x threaded push-to-connect reducers, 1/2\" to 3/8\"\n",
        "- Sand sieved to three size ranges: .354-.5 mm (between 35-45 mesh size), .5-.707 mm (25-35 mesh size), and .707-1 mm (16-25 mesh size) in diameter.   Approximately 110 cm^3 of each type of sand was required (Obtained from AguaClara Lab and Sieved in Cornell Center for Materials Research)\n",
        "- 3x turbidimeters (Obtained from the AguaClara lab)\n",
        "- 3x pressure sensors (Obtained from the AguaClara Lab)\n",
        "- Teflon Tape\n",
        "- 3x 1\" LASCOtite Adapter MPT x Gasket, Part Number: 21305\n",
        "-  3x LASCO Sch80 Reducer Bushing (Flush Style) MPT x FPT, Part Number: 839128\n",
        "- 3x 2\" McMaster-Carr Straight Adaptor with Hex Body, Part Number: 4596K57\n",
        "- 3x Push-to-Connect Fitting for Drinking Water, Straight Adapter, for 1/4\" Tube OD x 1/8 BSPT Male, Part Number: 5104K15\n",
        "- Wire mesh\n",
        "\n"
      ]
    }
  ]
}